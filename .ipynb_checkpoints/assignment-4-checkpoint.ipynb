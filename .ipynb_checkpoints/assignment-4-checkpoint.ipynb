{
 "cells": [
  {
   "cell_type": "markdown",
   "id": "6e11cd83",
   "metadata": {},
   "source": [
    "Comparing Plano's population to Plano presidential election voting behaviors."
   ]
  },
  {
   "cell_type": "code",
   "execution_count": 3,
   "id": "22da6a25",
   "metadata": {},
   "outputs": [],
   "source": [
    "import pandas as pd\n",
    "import numpy as np\n",
    "import matplotlib.pyplot as plt\n",
    "\n",
    "plano_population_df = pd.read_csv('plano-population-data.csv')\n",
    "plano_presidential_df = pd.read_csv('plano-presidential-data.csv')\n",
    "\n"
   ]
  },
  {
   "cell_type": "code",
   "execution_count": null,
   "id": "7a880f31",
   "metadata": {},
   "outputs": [],
   "source": [
    "import pandas as pd\n",
    "import numpy as np\n",
    "import matplotlib.pyplot as plt"
   ]
  }
 ],
 "metadata": {
  "kernelspec": {
   "display_name": "Python 3 (ipykernel)",
   "language": "python",
   "name": "python3"
  },
  "language_info": {
   "codemirror_mode": {
    "name": "ipython",
    "version": 3
   },
   "file_extension": ".py",
   "mimetype": "text/x-python",
   "name": "python",
   "nbconvert_exporter": "python",
   "pygments_lexer": "ipython3",
   "version": "3.8.9"
  }
 },
 "nbformat": 4,
 "nbformat_minor": 5
}
