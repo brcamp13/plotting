{
 "cells": [
  {
   "cell_type": "markdown",
   "id": "5bbd308e",
   "metadata": {},
   "source": [
    "Comparing Plano's population to Plano presidential election voting behaviors."
   ]
  },
  {
   "cell_type": "code",
   "execution_count": 54,
   "id": "f8826506",
   "metadata": {},
   "outputs": [],
   "source": [
    "import pandas as pd\n",
    "import numpy as np\n",
    "import matplotlib.pyplot as plt\n",
    "\n",
    "\n"
   ]
  },
  {
   "cell_type": "code",
   "execution_count": null,
   "id": "c3dab3cd",
   "metadata": {},
   "outputs": [],
   "source": []
  },
  {
   "cell_type": "code",
   "execution_count": null,
   "id": "42f56fa7",
   "metadata": {},
   "outputs": [],
   "source": []
  },
  {
   "cell_type": "code",
   "execution_count": 67,
   "id": "2b0e81e9",
   "metadata": {},
   "outputs": [],
   "source": [
    "# Manipulate population data to just 2000-2020 and make the years the indices\n",
    "def cleanPlanoPopulationData():\n",
    "    plano_population_df = pd.read_csv('plano-population-data.csv')\n",
    "    plano_population_df = plano_population_df[14:]\n",
    "    plano_population_df.apply(lambda x: x.str.strip() if x.dtype == \"object\" else x)\n",
    "    plano_population_df.set_index('Historical population', inplace = True)\n",
    "    plano_population_df = plano_population_df.rename(columns={'Unnamed: 1': 'Population'})\n",
    "    plano_population_df.drop('Unnamed: 2', axis=1, inplace=True)\n",
    "    plano_population_df.drop('Unnamed: 3', axis=1, inplace=True)\n",
    "    return plano_population_df.head(50)\n"
   ]
  },
  {
   "cell_type": "code",
   "execution_count": 68,
   "id": "60df6f2a",
   "metadata": {},
   "outputs": [
    {
     "data": {
      "text/html": [
       "<div>\n",
       "<style scoped>\n",
       "    .dataframe tbody tr th:only-of-type {\n",
       "        vertical-align: middle;\n",
       "    }\n",
       "\n",
       "    .dataframe tbody tr th {\n",
       "        vertical-align: top;\n",
       "    }\n",
       "\n",
       "    .dataframe thead th {\n",
       "        text-align: right;\n",
       "    }\n",
       "</style>\n",
       "<table border=\"1\" class=\"dataframe\">\n",
       "  <thead>\n",
       "    <tr style=\"text-align: right;\">\n",
       "      <th></th>\n",
       "      <th>Population</th>\n",
       "    </tr>\n",
       "    <tr>\n",
       "      <th>Historical population</th>\n",
       "      <th></th>\n",
       "    </tr>\n",
       "  </thead>\n",
       "  <tbody>\n",
       "    <tr>\n",
       "      <th>2000</th>\n",
       "      <td>222,030</td>\n",
       "    </tr>\n",
       "    <tr>\n",
       "      <th>2010</th>\n",
       "      <td>259,841</td>\n",
       "    </tr>\n",
       "    <tr>\n",
       "      <th>2020</th>\n",
       "      <td>285,494</td>\n",
       "    </tr>\n",
       "  </tbody>\n",
       "</table>\n",
       "</div>"
      ],
      "text/plain": [
       "                      Population\n",
       "Historical population           \n",
       "2000                     222,030\n",
       "2010                     259,841\n",
       "2020                     285,494"
      ]
     },
     "execution_count": 68,
     "metadata": {},
     "output_type": "execute_result"
    }
   ],
   "source": [
    "cleanPlanoPopulationData()"
   ]
  },
  {
   "cell_type": "code",
   "execution_count": 74,
   "id": "dfb2850c",
   "metadata": {},
   "outputs": [],
   "source": [
    "# Manipulate presidential data to just 2000, 2010, 2020 and make the years the indices\n",
    "def cleanPresidentialPopulationData():\n",
    "    plano_presidential_df = pd.read_csv('plano-presidential-data.csv')\n",
    "    plano_presidential_df.iloc[::-1]\n",
    "    plano_presidential_df.set_index('Year', inplace = True)\n",
    "#     plano_presidential_df.plot()\n",
    "    return plano_presidential_df.head(50)\n"
   ]
  },
  {
   "cell_type": "code",
   "execution_count": 75,
   "id": "b37f6416",
   "metadata": {},
   "outputs": [
    {
     "data": {
      "text/html": [
       "<div>\n",
       "<style scoped>\n",
       "    .dataframe tbody tr th:only-of-type {\n",
       "        vertical-align: middle;\n",
       "    }\n",
       "\n",
       "    .dataframe tbody tr th {\n",
       "        vertical-align: top;\n",
       "    }\n",
       "\n",
       "    .dataframe thead th {\n",
       "        text-align: right;\n",
       "    }\n",
       "</style>\n",
       "<table border=\"1\" class=\"dataframe\">\n",
       "  <thead>\n",
       "    <tr style=\"text-align: right;\">\n",
       "      <th></th>\n",
       "      <th>Democratic</th>\n",
       "      <th>Republican</th>\n",
       "      <th>Third Parties</th>\n",
       "    </tr>\n",
       "    <tr>\n",
       "      <th>Year</th>\n",
       "      <th></th>\n",
       "      <th></th>\n",
       "      <th></th>\n",
       "    </tr>\n",
       "  </thead>\n",
       "  <tbody>\n",
       "    <tr>\n",
       "      <th>2020</th>\n",
       "      <td>53.50% 72,736</td>\n",
       "      <td>44.75% 60,840</td>\n",
       "      <td>1.76% 2,389</td>\n",
       "    </tr>\n",
       "    <tr>\n",
       "      <th>2016</th>\n",
       "      <td>45.31% 49,522</td>\n",
       "      <td>50.12% 54,784</td>\n",
       "      <td>4.56% 4,988</td>\n",
       "    </tr>\n",
       "    <tr>\n",
       "      <th>2012</th>\n",
       "      <td>37.44% 37,435</td>\n",
       "      <td>60.74% 60,733</td>\n",
       "      <td>1.82% 1,817</td>\n",
       "    </tr>\n",
       "    <tr>\n",
       "      <th>2008</th>\n",
       "      <td>39.70% 42,441</td>\n",
       "      <td>59.11% 63,193</td>\n",
       "      <td>1.19% 1,280</td>\n",
       "    </tr>\n",
       "    <tr>\n",
       "      <th>2004</th>\n",
       "      <td>31.07% 30,387</td>\n",
       "      <td>68.06% 66,562</td>\n",
       "      <td>0.87% 852</td>\n",
       "    </tr>\n",
       "    <tr>\n",
       "      <th>2000</th>\n",
       "      <td>25.65% 20,888</td>\n",
       "      <td>71.78% 58,447</td>\n",
       "      <td>2.57% 2,093</td>\n",
       "    </tr>\n",
       "  </tbody>\n",
       "</table>\n",
       "</div>"
      ],
      "text/plain": [
       "         Democratic     Republican Third Parties\n",
       "Year                                            \n",
       "2020  53.50% 72,736  44.75% 60,840   1.76% 2,389\n",
       "2016  45.31% 49,522  50.12% 54,784   4.56% 4,988\n",
       "2012  37.44% 37,435  60.74% 60,733   1.82% 1,817\n",
       "2008  39.70% 42,441  59.11% 63,193   1.19% 1,280\n",
       "2004  31.07% 30,387  68.06% 66,562     0.87% 852\n",
       "2000  25.65% 20,888  71.78% 58,447   2.57% 2,093"
      ]
     },
     "execution_count": 75,
     "metadata": {},
     "output_type": "execute_result"
    }
   ],
   "source": [
    "cleanPresidentialPopulationData()"
   ]
  },
  {
   "cell_type": "code",
   "execution_count": 58,
   "id": "ddf5e8f1",
   "metadata": {},
   "outputs": [],
   "source": [
    "# Make a unified dataframe w/ years as indices, pop, dems, repubs, third as columns\n"
   ]
  },
  {
   "cell_type": "code",
   "execution_count": null,
   "id": "c1b522c0",
   "metadata": {},
   "outputs": [],
   "source": [
    "# Plot this df and make it look good (follow the Cairo principles)"
   ]
  }
 ],
 "metadata": {
  "kernelspec": {
   "display_name": "Python 3 (ipykernel)",
   "language": "python",
   "name": "python3"
  },
  "language_info": {
   "codemirror_mode": {
    "name": "ipython",
    "version": 3
   },
   "file_extension": ".py",
   "mimetype": "text/x-python",
   "name": "python",
   "nbconvert_exporter": "python",
   "pygments_lexer": "ipython3",
   "version": "3.8.9"
  }
 },
 "nbformat": 4,
 "nbformat_minor": 5
}
