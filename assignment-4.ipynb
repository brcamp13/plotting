{
 "cells": [
  {
   "cell_type": "markdown",
   "id": "5bbd308e",
   "metadata": {},
   "source": [
    "Comparing Plano's population to Plano presidential election voting behaviors."
   ]
  },
  {
   "cell_type": "code",
   "execution_count": 1,
   "id": "f8826506",
   "metadata": {},
   "outputs": [],
   "source": [
    "import pandas as pd\n",
    "import numpy as np\n",
    "import matplotlib.pyplot as plt\n",
    "\n",
    "\n"
   ]
  },
  {
   "cell_type": "code",
   "execution_count": null,
   "id": "c3dab3cd",
   "metadata": {},
   "outputs": [],
   "source": []
  },
  {
   "cell_type": "code",
   "execution_count": null,
   "id": "42f56fa7",
   "metadata": {},
   "outputs": [],
   "source": []
  },
  {
   "cell_type": "code",
   "execution_count": 2,
   "id": "2b0e81e9",
   "metadata": {},
   "outputs": [],
   "source": [
    "# Manipulate population data to just 2000-2020 and make the years the indices\n",
    "def cleanPlanoPopulationData():\n",
    "    plano_population_df = pd.read_csv('plano-population-data.csv')\n",
    "    plano_population_df = plano_population_df[14:]\n",
    "    plano_population_df.apply(lambda x: x.str.strip() if x.dtype == \"object\" else x)\n",
    "    plano_population_df.set_index('Historical population', inplace = True)\n",
    "    plano_population_df = plano_population_df.rename(columns={'Unnamed: 1': 'Population'})\n",
    "    plano_population_df.drop('Unnamed: 2', axis=1, inplace=True)\n",
    "    plano_population_df.drop('Unnamed: 3', axis=1, inplace=True)\n",
    "    plano_population_df=plano_population_df.astype(float)\n",
    "\n",
    "    return plano_population_df"
   ]
  },
  {
   "cell_type": "code",
   "execution_count": 29,
   "id": "60df6f2a",
   "metadata": {},
   "outputs": [
    {
     "data": {
      "text/html": [
       "<div>\n",
       "<style scoped>\n",
       "    .dataframe tbody tr th:only-of-type {\n",
       "        vertical-align: middle;\n",
       "    }\n",
       "\n",
       "    .dataframe tbody tr th {\n",
       "        vertical-align: top;\n",
       "    }\n",
       "\n",
       "    .dataframe thead th {\n",
       "        text-align: right;\n",
       "    }\n",
       "</style>\n",
       "<table border=\"1\" class=\"dataframe\">\n",
       "  <thead>\n",
       "    <tr style=\"text-align: right;\">\n",
       "      <th></th>\n",
       "      <th>Population</th>\n",
       "    </tr>\n",
       "    <tr>\n",
       "      <th>Historical population</th>\n",
       "      <th></th>\n",
       "    </tr>\n",
       "  </thead>\n",
       "  <tbody>\n",
       "    <tr>\n",
       "      <th>2000</th>\n",
       "      <td>222030.0</td>\n",
       "    </tr>\n",
       "    <tr>\n",
       "      <th>2010</th>\n",
       "      <td>259841.0</td>\n",
       "    </tr>\n",
       "    <tr>\n",
       "      <th>2020</th>\n",
       "      <td>285494.0</td>\n",
       "    </tr>\n",
       "  </tbody>\n",
       "</table>\n",
       "</div>"
      ],
      "text/plain": [
       "                       Population\n",
       "Historical population            \n",
       "2000                     222030.0\n",
       "2010                     259841.0\n",
       "2020                     285494.0"
      ]
     },
     "execution_count": 29,
     "metadata": {},
     "output_type": "execute_result"
    }
   ],
   "source": [
    "clean_population_data = cleanPlanoPopulationData()\n",
    "clean_population_data.head(50)"
   ]
  },
  {
   "cell_type": "code",
   "execution_count": 4,
   "id": "dfb2850c",
   "metadata": {},
   "outputs": [],
   "source": [
    "# Manipulate presidential data to just 2000, 2010, 2020 and make the years the indices\n",
    "def cleanPresidentialPopulationData():\n",
    "    plano_presidential_df = pd.read_csv('plano-presidential-data.csv')\n",
    "    plano_presidential_df.iloc[::-1]\n",
    "    plano_presidential_df.set_index('Year', inplace = True)\n",
    "    plano_presidential_df=plano_presidential_df.astype(float)\n",
    "    return plano_presidential_df\n"
   ]
  },
  {
   "cell_type": "code",
   "execution_count": 22,
   "id": "b37f6416",
   "metadata": {},
   "outputs": [
    {
     "data": {
      "text/html": [
       "<div>\n",
       "<style scoped>\n",
       "    .dataframe tbody tr th:only-of-type {\n",
       "        vertical-align: middle;\n",
       "    }\n",
       "\n",
       "    .dataframe tbody tr th {\n",
       "        vertical-align: top;\n",
       "    }\n",
       "\n",
       "    .dataframe thead th {\n",
       "        text-align: right;\n",
       "    }\n",
       "</style>\n",
       "<table border=\"1\" class=\"dataframe\">\n",
       "  <thead>\n",
       "    <tr style=\"text-align: right;\">\n",
       "      <th></th>\n",
       "      <th>Democratic</th>\n",
       "      <th>Republican</th>\n",
       "      <th>Third Parties</th>\n",
       "    </tr>\n",
       "    <tr>\n",
       "      <th>Year</th>\n",
       "      <th></th>\n",
       "      <th></th>\n",
       "      <th></th>\n",
       "    </tr>\n",
       "  </thead>\n",
       "  <tbody>\n",
       "    <tr>\n",
       "      <th>2020</th>\n",
       "      <td>72736.0</td>\n",
       "      <td>60840.0</td>\n",
       "      <td>2389.0</td>\n",
       "    </tr>\n",
       "    <tr>\n",
       "      <th>2016</th>\n",
       "      <td>49522.0</td>\n",
       "      <td>54784.0</td>\n",
       "      <td>4988.0</td>\n",
       "    </tr>\n",
       "    <tr>\n",
       "      <th>2012</th>\n",
       "      <td>37435.0</td>\n",
       "      <td>60733.0</td>\n",
       "      <td>1817.0</td>\n",
       "    </tr>\n",
       "    <tr>\n",
       "      <th>2008</th>\n",
       "      <td>42441.0</td>\n",
       "      <td>63193.0</td>\n",
       "      <td>1280.0</td>\n",
       "    </tr>\n",
       "    <tr>\n",
       "      <th>2004</th>\n",
       "      <td>30387.0</td>\n",
       "      <td>66562.0</td>\n",
       "      <td>852.0</td>\n",
       "    </tr>\n",
       "    <tr>\n",
       "      <th>2000</th>\n",
       "      <td>20888.0</td>\n",
       "      <td>58447.0</td>\n",
       "      <td>2093.0</td>\n",
       "    </tr>\n",
       "  </tbody>\n",
       "</table>\n",
       "</div>"
      ],
      "text/plain": [
       "      Democratic  Republican  Third Parties\n",
       "Year                                       \n",
       "2020     72736.0     60840.0         2389.0\n",
       "2016     49522.0     54784.0         4988.0\n",
       "2012     37435.0     60733.0         1817.0\n",
       "2008     42441.0     63193.0         1280.0\n",
       "2004     30387.0     66562.0          852.0\n",
       "2000     20888.0     58447.0         2093.0"
      ]
     },
     "execution_count": 22,
     "metadata": {},
     "output_type": "execute_result"
    }
   ],
   "source": [
    "clean_presidential_data = cleanPresidentialPopulationData()\n",
    "clean_presidential_data.head(50)"
   ]
  },
  {
   "cell_type": "code",
   "execution_count": 103,
   "id": "1bb3c826",
   "metadata": {},
   "outputs": [],
   "source": [
    "def merge_population_and_presidential(population_data, presidential_data):\n",
    "    population_data.index = population_data.index.map(int)\n",
    "    merged = pd.concat([presidential_data, population_data], axis=1)\n",
    "    merged = merged.interpolate(method ='linear')\n",
    "    merged = merged.sort_index(axis = 0)\n",
    "    \n",
    "    return merged\n",
    "    "
   ]
  },
  {
   "cell_type": "code",
   "execution_count": 104,
   "id": "625645b9",
   "metadata": {},
   "outputs": [
    {
     "data": {
      "text/html": [
       "<div>\n",
       "<style scoped>\n",
       "    .dataframe tbody tr th:only-of-type {\n",
       "        vertical-align: middle;\n",
       "    }\n",
       "\n",
       "    .dataframe tbody tr th {\n",
       "        vertical-align: top;\n",
       "    }\n",
       "\n",
       "    .dataframe thead th {\n",
       "        text-align: right;\n",
       "    }\n",
       "</style>\n",
       "<table border=\"1\" class=\"dataframe\">\n",
       "  <thead>\n",
       "    <tr style=\"text-align: right;\">\n",
       "      <th></th>\n",
       "      <th>Democratic</th>\n",
       "      <th>Republican</th>\n",
       "      <th>Third Parties</th>\n",
       "      <th>Population</th>\n",
       "    </tr>\n",
       "  </thead>\n",
       "  <tbody>\n",
       "    <tr>\n",
       "      <th>2000</th>\n",
       "      <td>20888.0</td>\n",
       "      <td>58447.0</td>\n",
       "      <td>2093.0</td>\n",
       "      <td>222030.0</td>\n",
       "    </tr>\n",
       "    <tr>\n",
       "      <th>2004</th>\n",
       "      <td>30387.0</td>\n",
       "      <td>66562.0</td>\n",
       "      <td>852.0</td>\n",
       "      <td>234722.8</td>\n",
       "    </tr>\n",
       "    <tr>\n",
       "      <th>2008</th>\n",
       "      <td>42441.0</td>\n",
       "      <td>63193.0</td>\n",
       "      <td>1280.0</td>\n",
       "      <td>247415.6</td>\n",
       "    </tr>\n",
       "    <tr>\n",
       "      <th>2010</th>\n",
       "      <td>20888.0</td>\n",
       "      <td>58447.0</td>\n",
       "      <td>2093.0</td>\n",
       "      <td>259841.0</td>\n",
       "    </tr>\n",
       "    <tr>\n",
       "      <th>2012</th>\n",
       "      <td>37435.0</td>\n",
       "      <td>60733.0</td>\n",
       "      <td>1817.0</td>\n",
       "      <td>260108.4</td>\n",
       "    </tr>\n",
       "    <tr>\n",
       "      <th>2016</th>\n",
       "      <td>49522.0</td>\n",
       "      <td>54784.0</td>\n",
       "      <td>4988.0</td>\n",
       "      <td>272801.2</td>\n",
       "    </tr>\n",
       "    <tr>\n",
       "      <th>2020</th>\n",
       "      <td>72736.0</td>\n",
       "      <td>60840.0</td>\n",
       "      <td>2389.0</td>\n",
       "      <td>285494.0</td>\n",
       "    </tr>\n",
       "  </tbody>\n",
       "</table>\n",
       "</div>"
      ],
      "text/plain": [
       "      Democratic  Republican  Third Parties  Population\n",
       "2000     20888.0     58447.0         2093.0    222030.0\n",
       "2004     30387.0     66562.0          852.0    234722.8\n",
       "2008     42441.0     63193.0         1280.0    247415.6\n",
       "2010     20888.0     58447.0         2093.0    259841.0\n",
       "2012     37435.0     60733.0         1817.0    260108.4\n",
       "2016     49522.0     54784.0         4988.0    272801.2\n",
       "2020     72736.0     60840.0         2389.0    285494.0"
      ]
     },
     "execution_count": 104,
     "metadata": {},
     "output_type": "execute_result"
    }
   ],
   "source": [
    "merged = merge_population_and_presidential(clean_population_data, clean_presidential_data)\n",
    "merged.head(50)\n"
   ]
  },
  {
   "cell_type": "code",
   "execution_count": 119,
   "id": "ddf5e8f1",
   "metadata": {},
   "outputs": [],
   "source": [
    " def plot_population_and_presidential_data(merged_data):\n",
    "    merged_plot = merged_data.plot(title='Plano Population vs. Presidential Voting Habits')\n",
    "    merged_plot.set_xlabel(\"Year\")\n",
    "    merged_plot.set_ylabel(\"Population\")\n"
   ]
  },
  {
   "cell_type": "code",
   "execution_count": 120,
   "id": "c1b522c0",
   "metadata": {},
   "outputs": [
    {
     "data": {
      "image/png": "[encoded data removed]",
      "text/plain": [
       "<Figure size 640x480 with 1 Axes>"
      ]
     },
     "metadata": {},
     "output_type": "display_data"
    }
   ],
   "source": [
    "plot_population_and_presidential_data(merged)"
   ]
  },
  {
   "cell_type": "code",
   "execution_count": null,
   "id": "2a9c1edb",
   "metadata": {},
   "outputs": [],
   "source": []
  },
  {
   "cell_type": "code",
   "execution_count": null,
   "id": "1f45f159",
   "metadata": {},
   "outputs": [],
   "source": []
  },
  {
   "cell_type": "code",
   "execution_count": null,
   "id": "b29d1d7f",
   "metadata": {},
   "outputs": [],
   "source": []
  }
 ],
 "metadata": {
  "kernelspec": {
   "display_name": "Python 3 (ipykernel)",
   "language": "python",
   "name": "python3"
  },
  "language_info": {
   "codemirror_mode": {
    "name": "ipython",
    "version": 3
   },
   "file_extension": ".py",
   "mimetype": "text/x-python",
   "name": "python",
   "nbconvert_exporter": "python",
   "pygments_lexer": "ipython3",
   "version": "3.8.9"
  }
 },
 "nbformat": 4,
 "nbformat_minor": 5
}
